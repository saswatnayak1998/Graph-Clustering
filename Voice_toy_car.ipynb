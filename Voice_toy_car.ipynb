{
 "cells": [
  {
   "cell_type": "code",
   "execution_count": 13,
   "metadata": {},
   "outputs": [],
   "source": [
    "import numpy as np\n",
    "import matplotlib.pyplot as plt\n",
    "import os\n",
    "import soundfile as sf\n",
    "import tensorflow as tf\n",
    "\n",
    "DATADIR=\"/Users/macbook/Downloads/EE1390-master/AI-ML/audio_dataset\"\n",
    "CATEGORIES=[\"new_backs\",\"new_forwards\",\"new_lefts_original\",\"new_rights_original\",\"new_stops\"]\n",
    "training_data=[]\n",
    "for category in CATEGORIES:\n",
    "    path=os.path.join(DATADIR,category)\n",
    "    class_num=CATEGORIES.index(category)\n",
    "    for sfile in os.listdir(path):\n",
    "        try:\n",
    "            snd_array,samplerate=sf.read(sfile)\n",
    "            new_arr=[]\n",
    "            for i in range(0,24000):\n",
    "                if(i<len(snd_array)):\n",
    "                    new_arr.append(snd_array[i])\n",
    "                else:\n",
    "                    new_arr.append(0)\n",
    "            training_data.append([new_arr,class_num])\n",
    "        except Exception as e:\n",
    "                pass\n",
    "import random\n",
    "random.shuffle(training_data)\n",
    "\n",
    "X_train=[]\n",
    "y_train=[]\n",
    "for sample in training_data:\n",
    "    X_train.append(sample[0])\n",
    "    y_train.append(sample[1])\n",
    "X_train=np.array(X_train).reshape(len(training_data),-1)\n",
    "y_train=np.array(y_train)\n",
    "\n"
   ]
  },
  {
   "cell_type": "code",
   "execution_count": 14,
   "metadata": {},
   "outputs": [],
   "source": [
    "model=tf.keras.models.Sequential()\n",
    "\n",
    "model.add(tf.keras.layers.Flatten())\n",
    "model.add(tf.keras.layers.Dense(5,activation=tf.nn.relu))\n",
    "model.add(tf.keras.layers.Dense(5,activation=tf.nn.relu))\n",
    "model.add(tf.keras.layers.Dense(5,activation=tf.nn.softmax))\n"
   ]
  },
  {
   "cell_type": "code",
   "execution_count": 15,
   "metadata": {},
   "outputs": [
    {
     "name": "stdout",
     "output_type": "stream",
     "text": [
      "Epoch 1/20\n",
      "400/400 [==============================] - 18s 46ms/step - loss: 0.6464 - acc: 0.7569\n",
      "Epoch 2/20\n",
      "400/400 [==============================] - 17s 43ms/step - loss: 0.2433 - acc: 0.8953\n",
      "Epoch 3/20\n",
      "400/400 [==============================] - 17s 42ms/step - loss: 0.1237 - acc: 0.9704\n",
      "Epoch 4/20\n",
      "400/400 [==============================] - 17s 43ms/step - loss: 0.0786 - acc: 0.9792\n",
      "Epoch 5/20\n",
      "400/400 [==============================] - 17s 43ms/step - loss: 0.0691 - acc: 0.9843\n",
      "Epoch 6/20\n",
      "400/400 [==============================] - 17s 43ms/step - loss: 0.0576 - acc: 0.9861\n",
      "Epoch 7/20\n",
      "400/400 [==============================] - 17s 43ms/step - loss: 0.0513 - acc: 0.9869\n",
      "Epoch 8/20\n",
      "400/400 [==============================] - 17s 42ms/step - loss: 0.0489 - acc: 0.9869\n",
      "Epoch 9/20\n",
      "400/400 [==============================] - 17s 42ms/step - loss: 0.0470 - acc: 0.9869\n",
      "Epoch 10/20\n",
      "400/400 [==============================] - 17s 42ms/step - loss: 0.0424 - acc: 0.9876\n",
      "Epoch 11/20\n",
      "400/400 [==============================] - 17s 43ms/step - loss: 0.0335 - acc: 0.9896\n",
      "Epoch 12/20\n",
      "400/400 [==============================] - 17s 44ms/step - loss: 0.0307 - acc: 0.9896\n",
      "Epoch 13/20\n",
      "400/400 [==============================] - 18s 45ms/step - loss: 0.0284 - acc: 0.9899\n",
      "Epoch 14/20\n",
      "400/400 [==============================] - 18s 44ms/step - loss: 0.0265 - acc: 0.9921\n",
      "Epoch 15/20\n",
      "400/400 [==============================] - 17s 43ms/step - loss: 0.0253 - acc: 0.9922\n",
      "Epoch 16/20\n",
      "400/400 [==============================] - 17s 43ms/step - loss: 0.0246 - acc: 0.9922\n",
      "Epoch 17/20\n",
      "400/400 [==============================] - 17s 43ms/step - loss: 0.0243 - acc: 0.9922\n",
      "Epoch 18/20\n",
      "400/400 [==============================] - 17s 44ms/step - loss: 0.0240 - acc: 0.9922\n",
      "Epoch 19/20\n",
      "400/400 [==============================] - 18s 44ms/step - loss: 0.0238 - acc: 0.9922\n",
      "Epoch 20/20\n",
      "400/400 [==============================] - 18s 44ms/step - loss: 0.0237 - acc: 0.9922 0s - loss: 0.0237 - - ETA: 0s - loss: 0.0237 - acc: 0\n"
     ]
    },
    {
     "data": {
      "text/plain": [
       "<tensorflow.python.keras.callbacks.History at 0xb682f8da0>"
      ]
     },
     "execution_count": 15,
     "metadata": {},
     "output_type": "execute_result"
    }
   ],
   "source": [
    "model.compile(optimizer='adam',loss='sparse_categorical_crossentropy',\n",
    "                 metrics=['accuracy'])\n",
    "model.fit(X_train,y_train,epochs=20,batch_size=300,steps_per_epoch=400,verbose=1)"
   ]
  },
  {
   "cell_type": "code",
   "execution_count": 16,
   "metadata": {},
   "outputs": [],
   "source": [
    "predictions=model.predict([X_train])"
   ]
  },
  {
   "cell_type": "code",
   "execution_count": 17,
   "metadata": {},
   "outputs": [
    {
     "data": {
      "text/plain": [
       "array([3.0153874e-37, 1.2166717e-32, 1.2296804e-06, 4.8084307e-18,\n",
       "       9.9999881e-01], dtype=float32)"
      ]
     },
     "execution_count": 17,
     "metadata": {},
     "output_type": "execute_result"
    }
   ],
   "source": [
    "predictions[1]"
   ]
  },
  {
   "cell_type": "code",
   "execution_count": 19,
   "metadata": {},
   "outputs": [
    {
     "data": {
      "text/plain": [
       "4"
      ]
     },
     "execution_count": 19,
     "metadata": {},
     "output_type": "execute_result"
    }
   ],
   "source": [
    "y_train[1]"
   ]
  },
  {
   "cell_type": "code",
   "execution_count": 114,
   "metadata": {},
   "outputs": [
    {
     "data": {
      "text/plain": [
       "145.90983936"
      ]
     },
     "execution_count": 114,
     "metadata": {},
     "output_type": "execute_result"
    }
   ],
   "source": [
    "a = [3, 1, 41, 52, 15, 4, 1, 63, 12 ]\n",
    "p=0.2\n",
    "vol=0\n",
    "a = sorted(a)\n",
    "for i in range(0,len(a)):\n",
    "    vol=vol+a[i]*(1-p)**(len(a)-i-1)\n",
    "vol"
   ]
  },
  {
   "cell_type": "code",
   "execution_count": 123,
   "metadata": {},
   "outputs": [
    {
     "data": {
      "image/png": "[encoded data removed]",
      "text/plain": [
       "<Figure size 432x288 with 1 Axes>"
      ]
     },
     "metadata": {
      "needs_background": "light"
     },
     "output_type": "display_data"
    }
   ],
   "source": [
    "import numpy as np\n",
    "import matplotlib.pyplot as pl\n",
    "\n",
    "n = 5000\n",
    "Xtest = np.linspace(-5, 5, n).reshape(-1,1)\n",
    "\n",
    "def kernel(a, b, param):\n",
    "    sqdist = np.sum(a**2,1).reshape(-1,1) + np.sum(b**2,1) - 2*np.dot(a, b.T)\n",
    "    return np.exp(-.5 * (1/param) * sqdist)\n",
    "\n",
    "param = 0.1\n",
    "K_ss = kernel(Xtest, Xtest, param)\n",
    "\n",
    "L = np.linalg.cholesky(K_ss + 1e-10*np.eye(n))\n",
    "f_prior = np.dot(L, np.random.normal(size=(n,3)))\n",
    "\n",
    "pl.plot(Xtest, f_prior)\n",
    "pl.axis([-5, 5, -3, 3])\n",
    "pl.title('Three samples from the GP prior')\n",
    "pl.show()"
   ]
  },
  {
   "cell_type": "code",
   "execution_count": null,
   "metadata": {},
   "outputs": [],
   "source": [
    "Xtrain = np.array([-4, -3, -2, -1, 1]).reshape(5,1)\n",
    "ytrain = np.sin(Xtrain)\n",
    "\n",
    "K = kernel(Xtrain, Xtrain, param)\n",
    "L = np.linalg.cholesky(K + 0.00005*np.eye(len(Xtrain)))\n",
    "\n",
    "K_s = kernel(Xtrain, Xtest, param)\n",
    "Lk = np.linalg.solve(L, K_s)\n",
    "mu = np.dot(Lk.T, np.linalg.solve(L, ytrain)).reshape((n,))\n",
    "\n",
    "s2 = np.diag(K_ss) - np.sum(Lk**2, axis=0)\n",
    "stdv = np.sqrt(s2)\n",
    "\n",
    "L = np.linalg.cholesky(K_ss + 1e-6*np.eye(n) - np.dot(Lk.T, Lk))\n",
    "f_post = mu.reshape(-1,1) + np.dot(L, np.random.normal(size=(n,3)))\n",
    "\n",
    "pl.plot(Xtrain, ytrain, 'bs', ms=8)\n",
    "pl.plot(Xtest, f_post)\n",
    "pl.gca().fill_between(Xtest.flat, mu-2*stdv, mu+2*stdv, color=\"#dddddd\")\n",
    "pl.plot(Xtest, mu, 'r--', lw=2)\n",
    "pl.axis([-5, 5, -3, 3])\n",
    "pl.title('Three samples from the GP posterior')\n",
    "pl.show()"
   ]
  },
  {
   "cell_type": "code",
   "execution_count": null,
   "metadata": {},
   "outputs": [],
   "source": [
    "Xtest = np.linspace(-5, 5, n).reshape(-1,1)"
   ]
  },
  {
   "cell_type": "code",
   "execution_count": null,
   "metadata": {},
   "outputs": [],
   "source": [
    "v=kernel(Xtest,Xtest,0.1)\n",
    "v"
   ]
  },
  {
   "cell_type": "code",
   "execution_count": null,
   "metadata": {},
   "outputs": [],
   "source": []
  }
 ],
 "metadata": {
  "kernelspec": {
   "display_name": "Python 3",
   "language": "python",
   "name": "python3"
  },
  "language_info": {
   "codemirror_mode": {
    "name": "ipython",
    "version": 3
   },
   "file_extension": ".py",
   "mimetype": "text/x-python",
   "name": "python",
   "nbconvert_exporter": "python",
   "pygments_lexer": "ipython3",
   "version": "3.7.3"
  }
 },
 "nbformat": 4,
 "nbformat_minor": 2
}
